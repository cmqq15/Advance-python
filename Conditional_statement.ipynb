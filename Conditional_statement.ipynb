{
 "cells": [
  {
   "cell_type": "markdown",
   "id": "c0f6a0f6",
   "metadata": {},
   "source": [
    "# RECAP\n",
    "- Basic python- operator, bitwise, input, variable, …\n",
    "- ADVANCE\n",
    "    - Conditional statement\n",
    "    - loops\n",
    "    - function\n",
    "    - functional argument\n",
    "    - recursion\n",
    "    - lambda\n",
    "    - exception handling\n",
    "    - multi thread\n",
    "    - error type\n",
    "    - iterator\n",
    "    - generator\n",
    "- oops..>\n",
    "    - class\n",
    "    - object\n",
    "    - method\n",
    "    - encapsulation\n",
    "    - polymorphism\n",
    "    - inheritance\n",
    "    - abstraction"
   ]
  },
  {
   "cell_type": "markdown",
   "id": "3da00d15",
   "metadata": {},
   "source": [
    "# Conditional statement"
   ]
  },
  {
   "cell_type": "markdown",
   "id": "e4715a8e",
   "metadata": {},
   "source": [
    "- They are if, if else, if elif else, nested if\n",
    "- In real time, we never write nested if"
   ]
  },
  {
   "cell_type": "code",
   "execution_count": 1,
   "id": "e1991f60",
   "metadata": {},
   "outputs": [
    {
     "name": "stdout",
     "output_type": "stream",
     "text": [
      "Data Science\n"
     ]
    }
   ],
   "source": [
    "if True: # Indentation is 4 spaces by default.\n",
    "    print('Data Science')"
   ]
  },
  {
   "cell_type": "code",
   "execution_count": 3,
   "id": "2f5a36e1",
   "metadata": {},
   "outputs": [],
   "source": [
    "if False:\n",
    "    print('Data Science') # no output"
   ]
  },
  {
   "cell_type": "code",
   "execution_count": 4,
   "id": "966a2418",
   "metadata": {},
   "outputs": [
    {
     "name": "stdout",
     "output_type": "stream",
     "text": [
      "Data Science\n",
      "bye for now\n"
     ]
    }
   ],
   "source": [
    "if True:\n",
    "    print('Data Science')\n",
    "    print('bye for now')"
   ]
  },
  {
   "cell_type": "code",
   "execution_count": 5,
   "id": "fb81f717",
   "metadata": {},
   "outputs": [
    {
     "name": "stdout",
     "output_type": "stream",
     "text": [
      "bye for now\n"
     ]
    }
   ],
   "source": [
    "if False:\n",
    "    print ('Data Science')\n",
    "else:\n",
    "    print('bye for now')"
   ]
  },
  {
   "cell_type": "code",
   "execution_count": null,
   "id": "b2d85934",
   "metadata": {},
   "outputs": [],
   "source": [
    "# Examples \n",
    "# Divide by 2 then reminder is 0 then it is even number if reminder "
   ]
  },
  {
   "cell_type": "markdown",
   "id": "a3c6133f",
   "metadata": {},
   "source": [
    "## Programming"
   ]
  },
  {
   "cell_type": "code",
   "execution_count": null,
   "id": "1321c60d",
   "metadata": {},
   "outputs": [
    {
     "name": "stdout",
     "output_type": "stream",
     "text": [
      "Even number\n"
     ]
    }
   ],
   "source": [
    "\n",
    "x = 4\n",
    "r = x % 2\n",
    "if r == 0:\n",
    "    print('Even number')"
   ]
  },
  {
   "cell_type": "code",
   "execution_count": 7,
   "id": "28e65846",
   "metadata": {},
   "outputs": [],
   "source": [
    "x = 5\n",
    "r = x % 2\n",
    "if r == 0:\n",
    "    print('Even number')"
   ]
  },
  {
   "cell_type": "code",
   "execution_count": 8,
   "id": "6bfe811e",
   "metadata": {},
   "outputs": [
    {
     "name": "stdout",
     "output_type": "stream",
     "text": [
      "Odd number\n"
     ]
    }
   ],
   "source": [
    "x = 5\n",
    "r = x % 2\n",
    "if r == 0:\n",
    "    print('Even number')\n",
    "if r == 1: # (or if r != 0:)\n",
    "    print('Odd number')"
   ]
  },
  {
   "cell_type": "code",
   "execution_count": 9,
   "id": "f424b49c",
   "metadata": {},
   "outputs": [
    {
     "name": "stdout",
     "output_type": "stream",
     "text": [
      "Odd number\n"
     ]
    }
   ],
   "source": [
    "x = 5\n",
    "r = x % 2\n",
    "if r == 0:\n",
    "    print('Even number')\n",
    "if r != 0:\n",
    "    print('Odd number')"
   ]
  },
  {
   "cell_type": "code",
   "execution_count": 10,
   "id": "28e95fb2",
   "metadata": {},
   "outputs": [
    {
     "name": "stdout",
     "output_type": "stream",
     "text": [
      "Odd number\n"
     ]
    }
   ],
   "source": [
    "# Another code\n",
    "x = 3\n",
    "r = x % 2\n",
    "if r == 0:\n",
    "    print('Even number')\n",
    "else:\n",
    "    print('Odd number')"
   ]
  },
  {
   "cell_type": "code",
   "execution_count": 11,
   "id": "4a277826",
   "metadata": {},
   "outputs": [
    {
     "name": "stdout",
     "output_type": "stream",
     "text": [
      "Odd number\n"
     ]
    }
   ],
   "source": [
    "# If more than two conditions, use nested if\n",
    "\n",
    "x =3\n",
    "r = x %2\n",
    "if r == 0:\n",
    "    print('Even number')\n",
    "if x>5:\n",
    "    print ('Great number')\n",
    "else:\n",
    "    print ('Odd number')"
   ]
  },
  {
   "cell_type": "code",
   "execution_count": null,
   "id": "0b82fbc9",
   "metadata": {},
   "outputs": [
    {
     "ename": "SyntaxError",
     "evalue": "invalid syntax (2815718453.py, line 9)",
     "output_type": "error",
     "traceback": [
      "\u001b[1;36m  Cell \u001b[1;32mIn[12], line 9\u001b[1;36m\u001b[0m\n\u001b[1;33m    else:\u001b[0m\n\u001b[1;37m    ^\u001b[0m\n\u001b[1;31mSyntaxError\u001b[0m\u001b[1;31m:\u001b[0m invalid syntax\n"
     ]
    }
   ],
   "source": [
    "x = 6\n",
    "r = x %2\n",
    "if r == 0:\n",
    "    print('even number')\n",
    "if x>5:\n",
    "    print ('great number')\n",
    "else: \n",
    "    print('not greater')\n",
    "else:\n",
    "    print ('Odd number')\n"
   ]
  },
  {
   "cell_type": "code",
   "execution_count": null,
   "id": "1c70c2e4",
   "metadata": {},
   "outputs": [],
   "source": [
    "# We do have the concept of IF - ELIF ELSE"
   ]
  },
  {
   "cell_type": "code",
   "execution_count": 13,
   "id": "73308ee6",
   "metadata": {},
   "outputs": [
    {
     "name": "stdout",
     "output_type": "stream",
     "text": [
      "one\n"
     ]
    }
   ],
   "source": [
    "x = 1\n",
    "if x == 1:\n",
    "   print('one')\n",
    "if x == 2:\n",
    "    print('two')\n",
    "if x == 3:\n",
    "    print ('three')\n",
    "if x == 4:\n",
    "    print ('four')\n",
    "# This is too much, we use ELIF"
   ]
  },
  {
   "cell_type": "code",
   "execution_count": 14,
   "id": "1b5ce593",
   "metadata": {},
   "outputs": [
    {
     "name": "stdout",
     "output_type": "stream",
     "text": [
      "one\n"
     ]
    }
   ],
   "source": [
    "x = 1\n",
    "if x == 1:\n",
    "   print('one')\n",
    "elif x == 2:\n",
    "    print('two')\n",
    "elif x ==3:\n",
    "    print ('three')\n",
    "elif x == 4:\n",
    "    print ('four')"
   ]
  },
  {
   "cell_type": "code",
   "execution_count": 15,
   "id": "6c7360e9",
   "metadata": {},
   "outputs": [
    {
     "name": "stdout",
     "output_type": "stream",
     "text": [
      "number not found\n"
     ]
    }
   ],
   "source": [
    "# Then \n",
    "x = 9\n",
    "if x == 1:\n",
    "   print('one')\n",
    "elif x == 2:\n",
    "    print('two')\n",
    "elif x ==3:\n",
    "    print ('three')\n",
    "elif x == 4:\n",
    "    print ('four')\n",
    "else:\n",
    "    print('number not found')"
   ]
  },
  {
   "cell_type": "code",
   "execution_count": 17,
   "id": "10303f5b",
   "metadata": {},
   "outputs": [],
   "source": [
    "# With input and conditional statement, you can develop programs\n",
    "# elif keyword is Python's way of saying \"if the previous conditions were not true, then try this condition\".\n",
    "# Tomorrow, we learn loops"
   ]
  },
  {
   "cell_type": "code",
   "execution_count": 18,
   "id": "e380158f",
   "metadata": {},
   "outputs": [
    {
     "name": "stdout",
     "output_type": "stream",
     "text": [
      "a and b are equal\n"
     ]
    }
   ],
   "source": [
    "a = 33\n",
    "b = 33\n",
    "if b > a:\n",
    "  print(\"b is greater than a\")\n",
    "elif a == b:\n",
    "  print(\"a and b are equal\")"
   ]
  },
  {
   "cell_type": "code",
   "execution_count": 19,
   "id": "cf5921a1",
   "metadata": {},
   "outputs": [
    {
     "name": "stdout",
     "output_type": "stream",
     "text": [
      "a is greater than b\n"
     ]
    }
   ],
   "source": [
    "# The else keyword catches anything which isn't caught by the preceding conditions.\n",
    "a = 200\n",
    "b = 33\n",
    "if b > a:\n",
    "  print(\"b is greater than a\")\n",
    "elif a == b:\n",
    "  print(\"a and b are equal\")\n",
    "else:\n",
    "  print(\"a is greater than b\")"
   ]
  },
  {
   "cell_type": "code",
   "execution_count": 20,
   "id": "02e48b7d",
   "metadata": {},
   "outputs": [
    {
     "name": "stdout",
     "output_type": "stream",
     "text": [
      "b is not greater than a\n"
     ]
    }
   ],
   "source": [
    "# You can also have an else without the elif\n",
    "a = 200\n",
    "b = 33\n",
    "if b > a:\n",
    "  print(\"b is greater than a\")\n",
    "else:\n",
    "  print(\"b is not greater than a\")"
   ]
  },
  {
   "cell_type": "code",
   "execution_count": 21,
   "id": "0b33fbfe",
   "metadata": {},
   "outputs": [
    {
     "name": "stdout",
     "output_type": "stream",
     "text": [
      "a is greater than b\n"
     ]
    }
   ],
   "source": [
    "# If you have only one statement to execute, you can put it on the same line as the if statement\n",
    "if a > b: print(\"a is greater than b\")"
   ]
  },
  {
   "cell_type": "code",
   "execution_count": 22,
   "id": "2edda668",
   "metadata": {},
   "outputs": [
    {
     "name": "stdout",
     "output_type": "stream",
     "text": [
      "Above ten,\n",
      "and also above 20!\n"
     ]
    }
   ],
   "source": [
    "# Nested If\n",
    "# You can have if statements inside if statements, this is called nested if statements.\n",
    "x = 41\n",
    "if x > 10:\n",
    "  print(\"Above ten,\")\n",
    "  if x > 20:\n",
    "    print(\"and also above 20!\")\n",
    "  else:\n",
    "    print(\"but not above 20.\") "
   ]
  },
  {
   "cell_type": "code",
   "execution_count": null,
   "id": "4b623f50",
   "metadata": {},
   "outputs": [],
   "source": []
  }
 ],
 "metadata": {
  "kernelspec": {
   "display_name": "base",
   "language": "python",
   "name": "python3"
  },
  "language_info": {
   "codemirror_mode": {
    "name": "ipython",
    "version": 3
   },
   "file_extension": ".py",
   "mimetype": "text/x-python",
   "name": "python",
   "nbconvert_exporter": "python",
   "pygments_lexer": "ipython3",
   "version": "3.12.7"
  }
 },
 "nbformat": 4,
 "nbformat_minor": 5
}
